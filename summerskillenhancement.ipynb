{
 "cells": [
  {
   "cell_type": "code",
   "execution_count": 3,
   "metadata": {},
   "outputs": [
    {
     "ename": "NameError",
     "evalue": "name 'isprime' is not defined",
     "output_type": "error",
     "traceback": [
      "\u001b[1;31m---------------------------------------------------------------------------\u001b[0m",
      "\u001b[1;31mNameError\u001b[0m                                 Traceback (most recent call last)",
      "\u001b[1;32m<ipython-input-3-51b616e8e257>\u001b[0m in \u001b[0;36m<module>\u001b[1;34m\u001b[0m\n\u001b[1;32m----> 1\u001b[1;33m \u001b[0misprime\u001b[0m\u001b[1;33m(\u001b[0m\u001b[1;36m5\u001b[0m\u001b[1;33m)\u001b[0m\u001b[1;33m\u001b[0m\u001b[1;33m\u001b[0m\u001b[0m\n\u001b[0m",
      "\u001b[1;31mNameError\u001b[0m: name 'isprime' is not defined"
     ]
    }
   ],
   "source": [
    "isprime(5)"
   ]
  },
  {
   "cell_type": "code",
   "execution_count": 4,
   "metadata": {},
   "outputs": [],
   "source": [
    "def generationnprimes(n,k):\n",
    "    seqcount=2\n",
    "    prime_count = 0\n",
    "    for seqcount in range(2,n):\n",
    "        if isprime(seqcount):\n",
    "            prime_count += 1\n",
    "            if prime_count == k:\n",
    "                print(seqcount)"
   ]
  },
  {
   "cell_type": "code",
   "execution_count": 5,
   "metadata": {},
   "outputs": [
    {
     "ename": "NameError",
     "evalue": "name 'isprime' is not defined",
     "output_type": "error",
     "traceback": [
      "\u001b[1;31m---------------------------------------------------------------------------\u001b[0m",
      "\u001b[1;31mNameError\u001b[0m                                 Traceback (most recent call last)",
      "\u001b[1;32m<ipython-input-5-cf2cb86ab8e0>\u001b[0m in \u001b[0;36m<module>\u001b[1;34m\u001b[0m\n\u001b[1;32m----> 1\u001b[1;33m \u001b[0mgenerationnprimes\u001b[0m\u001b[1;33m(\u001b[0m\u001b[1;36m15\u001b[0m\u001b[1;33m,\u001b[0m\u001b[1;36m3\u001b[0m\u001b[1;33m)\u001b[0m\u001b[1;33m\u001b[0m\u001b[1;33m\u001b[0m\u001b[0m\n\u001b[0m",
      "\u001b[1;32m<ipython-input-4-e192fff7f4c8>\u001b[0m in \u001b[0;36mgenerationnprimes\u001b[1;34m(n, k)\u001b[0m\n\u001b[0;32m      3\u001b[0m     \u001b[0mprime_count\u001b[0m \u001b[1;33m=\u001b[0m \u001b[1;36m0\u001b[0m\u001b[1;33m\u001b[0m\u001b[1;33m\u001b[0m\u001b[0m\n\u001b[0;32m      4\u001b[0m     \u001b[1;32mfor\u001b[0m \u001b[0mseqcount\u001b[0m \u001b[1;32min\u001b[0m \u001b[0mrange\u001b[0m\u001b[1;33m(\u001b[0m\u001b[1;36m2\u001b[0m\u001b[1;33m,\u001b[0m\u001b[0mn\u001b[0m\u001b[1;33m)\u001b[0m\u001b[1;33m:\u001b[0m\u001b[1;33m\u001b[0m\u001b[1;33m\u001b[0m\u001b[0m\n\u001b[1;32m----> 5\u001b[1;33m         \u001b[1;32mif\u001b[0m \u001b[0misprime\u001b[0m\u001b[1;33m(\u001b[0m\u001b[0mseqcount\u001b[0m\u001b[1;33m)\u001b[0m\u001b[1;33m:\u001b[0m\u001b[1;33m\u001b[0m\u001b[1;33m\u001b[0m\u001b[0m\n\u001b[0m\u001b[0;32m      6\u001b[0m             \u001b[0mprime_count\u001b[0m \u001b[1;33m+=\u001b[0m \u001b[1;36m1\u001b[0m\u001b[1;33m\u001b[0m\u001b[1;33m\u001b[0m\u001b[0m\n\u001b[0;32m      7\u001b[0m             \u001b[1;32mif\u001b[0m \u001b[0mprime_count\u001b[0m \u001b[1;33m==\u001b[0m \u001b[0mk\u001b[0m\u001b[1;33m:\u001b[0m\u001b[1;33m\u001b[0m\u001b[1;33m\u001b[0m\u001b[0m\n",
      "\u001b[1;31mNameError\u001b[0m: name 'isprime' is not defined"
     ]
    }
   ],
   "source": [
    "generationnprimes(15,3)"
   ]
  },
  {
   "cell_type": "code",
   "execution_count": null,
   "metadata": {},
   "outputs": [],
   "source": [
    "def isprime(n):\n",
    "    count=0\n",
    "    for i in range(2,n//2+1):\n",
    "        if n%i==0:\n",
    "            count+=1\n",
    "    if count==0:\n",
    "        return True\n",
    "    else:\n",
    "        return False\n",
    "    \n",
    "isprime(4)"
   ]
  },
  {
   "cell_type": "code",
   "execution_count": null,
   "metadata": {},
   "outputs": [],
   "source": [
    "isprime(3)"
   ]
  },
  {
   "cell_type": "code",
   "execution_count": null,
   "metadata": {},
   "outputs": [],
   "source": [
    "def primesinagivenrange(lb,ub):\n",
    "    for i in range(lb,ub+1):\n",
    "        if isprime(i):\n",
    "            print(i)\n",
    "primesinagivenrange(2,10)"
   ]
  },
  {
   "cell_type": "code",
   "execution_count": null,
   "metadata": {},
   "outputs": [],
   "source": [
    "def generatingprimes(n):\n",
    "    seqcount=2\n",
    "    for seqcount in range(2,n):\n",
    "        if isprime(seqcount):\n",
    "            print(seqcount)"
   ]
  },
  {
   "cell_type": "code",
   "execution_count": null,
   "metadata": {},
   "outputs": [],
   "source": [
    "generatingprimes(10)"
   ]
  },
  {
   "cell_type": "code",
   "execution_count": null,
   "metadata": {},
   "outputs": [],
   "source": [
    "def generatingkthprime(n,k):\n",
    "    primecount=0\n",
    "    seqcount=2\n",
    "    for seqcount in range(2,n):\n",
    "        if isprime(seqcount):\n",
    "            primecount+=1\n",
    "            if primecount==k:\n",
    "                print(seqcount)"
   ]
  },
  {
   "cell_type": "code",
   "execution_count": null,
   "metadata": {},
   "outputs": [],
   "source": [
    "generatingkthprime(20,6)"
   ]
  },
  {
   "cell_type": "code",
   "execution_count": null,
   "metadata": {},
   "outputs": [],
   "source": [
    "def averageprimenumbers(n):\n",
    "    sum=0\n",
    "    avg=0\n",
    "    count=0\n",
    "    for i in range(2,n+1):\n",
    "        if isprime(i):\n",
    "            print(i)\n",
    "            sum=sum+i\n",
    "            count+=1\n",
    "    print(sum/count)"
   ]
  },
  {
   "cell_type": "code",
   "execution_count": null,
   "metadata": {},
   "outputs": [],
   "source": [
    "averageprimenumbers(10)"
   ]
  },
  {
   "cell_type": "code",
   "execution_count": null,
   "metadata": {},
   "outputs": [],
   "source": [
    "def isperfect(n):\n",
    "    sum=0\n",
    "    for i in range(1,n):\n",
    "        if n%i==0:\n",
    "            sum=sum+i\n",
    "    if sum==n:\n",
    "        return True\n",
    "    else:\n",
    "        return False"
   ]
  },
  {
   "cell_type": "code",
   "execution_count": null,
   "metadata": {},
   "outputs": [],
   "source": [
    "isperfect(6)"
   ]
  },
  {
   "cell_type": "code",
   "execution_count": null,
   "metadata": {},
   "outputs": [],
   "source": [
    "def genperfectnumbers(n):\n",
    "    i=1\n",
    "    totalperfect=0\n",
    "    while True:\n",
    "        sum=0\n",
    "        for j in range(1,i):\n",
    "            if i%j==0:\n",
    "                sum=sum+j\n",
    "        if sum==i:\n",
    "            print(i)\n",
    "            totalperfect+=1\n",
    "        if totalperfect==n:\n",
    "            break\n",
    "        i+=1"
   ]
  },
  {
   "cell_type": "code",
   "execution_count": null,
   "metadata": {},
   "outputs": [],
   "source": [
    "genperfectnumbers(4)"
   ]
  },
  {
   "cell_type": "code",
   "execution_count": null,
   "metadata": {},
   "outputs": [],
   "source": [
    "Problem Set - 4th May 2019\n",
    "Design a procedure calculate the maximum, minimum and average of N numbers\n",
    "data( a[1,2,3,4,5] ) -> Max = 5, Min = 1, Avg = 3\n",
    "Design a procedure to perform Linear search on list of N unsorted unique numbers. It take an array and the key element to be searched and returns the index of the element of key element if found. Else returns -1\n",
    "LinearSearch( a[5,4,3,2,1], 4) -> 2\n",
    "LinearSearch( a[90, 123, 324, 21, 56], 22) -> -1\n",
    "Design a procedure to determine if a given string is a Palindrome\n",
    "Palindrome(\"racecar\") -> True\n",
    "Palindrome(\"raptor\") -> False\n",
    "Design a procedure to calculate the squareroot of a number \"without using the math function sqrt\".\n",
    "Squareroot(36) -> 6\n",
    "Design a \n",
    "Design a procedure to determine the frequency count of numbers in a given list\n",
    "Frequency( a[1,3,2,1] ) -> 1 : 2, 2 : 1, 3 : 1"
   ]
  },
  {
   "cell_type": "code",
   "execution_count": null,
   "metadata": {},
   "outputs": [],
   "source": [
    "n=int(input())\n",
    "for i in range(n):\n",
    "    l=list(input().split())\n",
    "    sum1=0\n",
    "    for i in l:\n",
    "        sum1=sum1+int(i)\n",
    "    print(max(l))\n",
    "    print(min(l))\n",
    "    print(sum1/len(l))"
   ]
  },
  {
   "cell_type": "code",
   "execution_count": null,
   "metadata": {},
   "outputs": [],
   "source": [
    "\n",
    "n=int(input())\n",
    "for i in range(n):\n",
    "    def linearsearch():\n",
    "        l=list(input().split())\n",
    "        k=int(input())\n",
    "        for i in range(len(l)):\n",
    "            if i==k:\n",
    "                return i\n",
    "        else:\n",
    "            return -1\n",
    "linearsearch()           "
   ]
  },
  {
   "cell_type": "code",
   "execution_count": null,
   "metadata": {},
   "outputs": [],
   "source": [
    "n=int(input())\n",
    "for i in range(n):\n",
    "    def palindrome():\n",
    "        s=input()\n",
    "        if s==s[::-1]:\n",
    "            return True\n",
    "        else:\n",
    "            return False\n",
    "palindrome()\n",
    "        "
   ]
  },
  {
   "cell_type": "code",
   "execution_count": null,
   "metadata": {},
   "outputs": [],
   "source": [
    "def squareroot():\n",
    "    n=int(input())\n",
    "    for i in range(n):\n",
    "        k=int(input())\n",
    "        print(k**0.5)\n",
    "squareroot()"
   ]
  },
  {
   "cell_type": "code",
   "execution_count": null,
   "metadata": {},
   "outputs": [],
   "source": [
    "def frequenycount():\n",
    "    n=int(input())\n",
    "    for i in range(n):\n",
    "        l=list(input().split())\n",
    "        d={}\n",
    "        for i in l:\n",
    "            if i not in d:\n",
    "                d[i]=1\n",
    "            else:\n",
    "                d[i]+=1\n",
    "            i=int(i)\n",
    "        print(d)"
   ]
  },
  {
   "cell_type": "code",
   "execution_count": null,
   "metadata": {},
   "outputs": [],
   "source": [
    "frequenycount()"
   ]
  },
  {
   "cell_type": "code",
   "execution_count": null,
   "metadata": {},
   "outputs": [],
   "source": [
    "Design a procedure to search for an element in a given array\n",
    "search([1,2, 3 ,5, 8, 9], 9) -> 6\n",
    "Design a procedure to identify all unique elements in an array\n",
    "unique([1, 2, 3, 4, 3, 2, 1, 0, 0]) -> [1, 2, 3, 4, 0]\n",
    "unique([9]) -> [9]\n",
    "Design a procedure to sort a given array in ascending order\n",
    "sort([3, 2, 1, 4, 4, 5, 6]) -> [1, 2, 3, 4, 4, 5, 6]\n",
    "sort([1, 2, 3]) -> [1, 2, 3]"
   ]
  },
  {
   "cell_type": "code",
   "execution_count": null,
   "metadata": {},
   "outputs": [],
   "source": [
    "def linearsearch(l1,key):\n",
    "    for i in l1:\n",
    "        if i==key:\n",
    "            return i\n",
    "    else:\n",
    "        return -1"
   ]
  },
  {
   "cell_type": "code",
   "execution_count": null,
   "metadata": {},
   "outputs": [],
   "source": [
    "linearsearch([1,2,3,4,5],1)"
   ]
  },
  {
   "cell_type": "code",
   "execution_count": null,
   "metadata": {},
   "outputs": [],
   "source": [
    "def uniquelements(l):\n",
    "    s=[]\n",
    "    for i in l:\n",
    "        if i not in s:\n",
    "            s.append(i)\n",
    "    print(s)\n",
    "uniquelements([0,1,2,3,4,0,1,1,4,2])      "
   ]
  },
  {
   "cell_type": "code",
   "execution_count": null,
   "metadata": {},
   "outputs": [],
   "source": [
    "def sorting(l):\n",
    "    print(sorted(l))"
   ]
  },
  {
   "cell_type": "code",
   "execution_count": null,
   "metadata": {},
   "outputs": [],
   "source": [
    "sorting([10,9,8,7,6,5,4,3,2,1,0])"
   ]
  },
  {
   "cell_type": "code",
   "execution_count": null,
   "metadata": {},
   "outputs": [],
   "source": [
    "\n",
    "Problem 1 :\n",
    "Problem Statement\n",
    "\n",
    "Given 2 int values, return True if first parameter is negative and second parameter is positive or vice versa. Except if the third parameter is True, then return True only if first two parameters are negative.\n",
    "\n",
    "Constraints\n",
    "\n",
    "Test Cases\n",
    "\n",
    "pos_neg(1, -1, False) → True\n",
    "pos_neg(-1, 1, False) → True\n",
    "pos_neg(-4, -5, True) → True\n",
    "pos_neg(-1, 1, True) -> False\n",
    "pos_neg(1, 6, True) -> False\n",
    "pos_neg(-1, -9, False) -> False\n",
    "\n",
    "\n",
    "Problem 2 :\n",
    "Problem Statement\n",
    "\n",
    "Create a Random Number Generator which takes the Range(lb, ub) and returns a Random number in the given range. lb < random number < ub\n",
    "\n",
    "Constraints\n",
    "\n",
    "Test Cases¶\n",
    "\n",
    "RandomGenerator(1, 100) -> will be in range (1,100)\n",
    "\n",
    "\n",
    "Problem 3 :\n",
    "Problem Statement\n",
    "\n",
    "Given an integer N, calculate the sum of N random numbers in the range [0, 1000000000000000)\n",
    "\n",
    "Problem 4 :\n",
    "Problem Statement\n",
    "\n",
    "Design a procedure to perform Linear search on list of N unsorted unique numbers. It take an array and the key element to be searched and returns the index of the element of key element if found. Else returns -1\n",
    "\n",
    "Constraints\n",
    "\n",
    "Test Cases\n",
    "\n",
    "linearSearch([1,4,8,0,3,5,6], 3) -> 4\n",
    "linearSearch([15, 12, 9, 6, 3, -3], 0) -> -1\n",
    "linearSearch([321, 543, 567, 789], 567) -> 2\n",
    "\n",
    "\n",
    "Problem 5 :\n",
    "Problem Statement\n",
    "\n",
    "Procedure to generate multiplication tables.\n",
    "\n",
    "\n",
    "\n",
    "Problem 6:\n",
    "Problem Statement\n",
    "\n",
    "Procedure to return the list of factors of a given number.\n",
    "\n",
    "Constraints\n",
    "\n",
    "Test Cases\n",
    "\n",
    "factorsList(6) -> [1, 2, 3, 6]\n",
    "factorsList(100) -> [1, 2, 4, 5, 10, 20, 25, 50, 100]\n",
    "factorsList(1) -> [1]\n",
    "\n",
    "\n",
    "Problem 7 :\n",
    "Problem Statement\n",
    "\n",
    "Design a procedure to determine if a given string is a Palindrome\n",
    "\n",
    "Constraints\n",
    "\n",
    "Test Cases\n",
    "\n",
    "Palindrome(\"racecar\") -> True\n",
    "Palindrome(\"python\") -> False"
   ]
  },
  {
   "cell_type": "code",
   "execution_count": null,
   "metadata": {},
   "outputs": [],
   "source": [
    "def positive(a,b,res):\n",
    "    if not res and((a>0 and b<0) or (a<0 and b>0)):\n",
    "        return True\n",
    "    elif res and (a<0 and b<0):\n",
    "        return True\n",
    "    else:\n",
    "        return False"
   ]
  },
  {
   "cell_type": "code",
   "execution_count": null,
   "metadata": {},
   "outputs": [],
   "source": [
    "positive(1,-1,False)"
   ]
  },
  {
   "cell_type": "code",
   "execution_count": null,
   "metadata": {},
   "outputs": [],
   "source": [
    "positive(1,1,True)"
   ]
  },
  {
   "cell_type": "code",
   "execution_count": null,
   "metadata": {},
   "outputs": [],
   "source": [
    "positive(-1,-1,True)"
   ]
  },
  {
   "cell_type": "code",
   "execution_count": null,
   "metadata": {},
   "outputs": [],
   "source": [
    "positive(1,-1,True)"
   ]
  },
  {
   "cell_type": "code",
   "execution_count": null,
   "metadata": {},
   "outputs": [],
   "source": [
    "\n",
    "from random import randint\n",
    "def random(lb,ub):\n",
    "    sum1=0\n",
    "    for i in range(lb,ub+1):\n",
    "        r=randint(lb,ub+1)\n",
    "        sum1=sum1+r\n",
    "        print(r)\n",
    "    print(sum1)"
   ]
  },
  {
   "cell_type": "code",
   "execution_count": null,
   "metadata": {},
   "outputs": [],
   "source": [
    "random(1,10)"
   ]
  },
  {
   "cell_type": "code",
   "execution_count": null,
   "metadata": {},
   "outputs": [],
   "source": [
    "def multiplicationtable(a,b,c):\n",
    "    for b in range(b,c+1):\n",
    "        print(f'{a}*{b} = {a*b}')\n",
    "        "
   ]
  },
  {
   "cell_type": "code",
   "execution_count": null,
   "metadata": {},
   "outputs": [],
   "source": [
    "multiplicationtable(3,5,10)"
   ]
  },
  {
   "cell_type": "code",
   "execution_count": null,
   "metadata": {},
   "outputs": [],
   "source": [
    "def factorlist(n):\n",
    "    s=[]\n",
    "    for i in range(1,n+1):\n",
    "        if n%i==0:\n",
    "            s.append(i)\n",
    "    print(s)"
   ]
  },
  {
   "cell_type": "code",
   "execution_count": null,
   "metadata": {},
   "outputs": [],
   "source": [
    "factorlist(1)"
   ]
  },
  {
   "cell_type": "code",
   "execution_count": null,
   "metadata": {},
   "outputs": [],
   "source": [
    "factorlist(6)"
   ]
  },
  {
   "cell_type": "code",
   "execution_count": null,
   "metadata": {},
   "outputs": [],
   "source": [
    "factorlist(100)"
   ]
  },
  {
   "cell_type": "code",
   "execution_count": null,
   "metadata": {},
   "outputs": [],
   "source": [
    "def powerofanumber(a,n):\n",
    "    print(a**n)\n",
    "    "
   ]
  },
  {
   "cell_type": "code",
   "execution_count": null,
   "metadata": {},
   "outputs": [],
   "source": [
    "powerofanumber(2,3)"
   ]
  },
  {
   "cell_type": "code",
   "execution_count": null,
   "metadata": {},
   "outputs": [],
   "source": [
    "def recursive(a,n):\n",
    "    if n==0 or n==1:\n",
    "        return 1\n",
    "    else:\n",
    "        print(recursive(n-1)*a,n)"
   ]
  },
  {
   "cell_type": "code",
   "execution_count": null,
   "metadata": {},
   "outputs": [],
   "source": [
    "recursive(2,3)"
   ]
  },
  {
   "cell_type": "code",
   "execution_count": null,
   "metadata": {},
   "outputs": [],
   "source": [
    "def fibonacci(n):\n",
    "    x=0\n",
    "    y=1\n",
    "    z=0\n",
    "    for x in range(n+1):\n",
    "        z=x+y\n",
    "        x=y\n",
    "        y=z\n",
    "    print(y)"
   ]
  },
  {
   "cell_type": "code",
   "execution_count": null,
   "metadata": {},
   "outputs": [],
   "source": [
    "fibonacci(6)"
   ]
  },
  {
   "cell_type": "code",
   "execution_count": null,
   "metadata": {},
   "outputs": [],
   "source": [
    "1+2+3+5+11"
   ]
  },
  {
   "cell_type": "code",
   "execution_count": null,
   "metadata": {},
   "outputs": [],
   "source": [
    "def mergestrings():\n",
    "    s1=input()\n",
    "    s2=input()\n",
    "    print(s1+s2)\n",
    "mergestrings()"
   ]
  },
  {
   "cell_type": "code",
   "execution_count": null,
   "metadata": {},
   "outputs": [],
   "source": [
    "def mergecharacters(s1,s2):\n",
    "    k=\"\"\n",
    "    for i in range(len(s1)):\n",
    "        k+=s1[i] + s2[i]\n",
    "    print(k)"
   ]
  },
  {
   "cell_type": "code",
   "execution_count": null,
   "metadata": {},
   "outputs": [],
   "source": [
    "mergecharacters(\"ac\",\"bka\")"
   ]
  },
  {
   "cell_type": "code",
   "execution_count": null,
   "metadata": {},
   "outputs": [],
   "source": [
    "k=\"1100\"\n",
    "a=int(k,2)\n",
    "a\n",
    "    "
   ]
  },
  {
   "cell_type": "code",
   "execution_count": null,
   "metadata": {},
   "outputs": [],
   "source": [
    "## Function to convert binary to decimal\n",
    "def binarytodecimal():\n",
    "    n=int(input())\n",
    "    for i in range(n):\n",
    "        k=input()\n",
    "        a=int(k,2)\n",
    "        print(a)"
   ]
  },
  {
   "cell_type": "code",
   "execution_count": null,
   "metadata": {},
   "outputs": [],
   "source": [
    "binarytodecimal()"
   ]
  },
  {
   "cell_type": "code",
   "execution_count": null,
   "metadata": {},
   "outputs": [],
   "source": [
    "# Function to convert decimalto binary\n",
    "def decimarytobinary():\n",
    "    n=int(input())\n",
    "    for i in range(n):\n",
    "        k=int(input())\n",
    "        print(bin(k))\n",
    "decimarytobinary()\n",
    "    \n",
    "    "
   ]
  },
  {
   "cell_type": "code",
   "execution_count": null,
   "metadata": {},
   "outputs": [],
   "source": [
    " Define a function to check if a given year is a leap year. Returns a boolean value\n",
    "\n",
    "2000 -> True\n",
    "1900 -> False\n",
    "2012 -> True\n",
    "2020 -> True\n",
    "0200 -> False"
   ]
  },
  {
   "cell_type": "code",
   "execution_count": null,
   "metadata": {},
   "outputs": [],
   "source": [
    "def leapyear():\n",
    "    n=int(input())\n",
    "    for i in range(n):\n",
    "        year=int(input())\n",
    "        if (year%400==0) or (year%4==0 and year%100!=0):\n",
    "            return True\n",
    "        else:\n",
    "            return False\n",
    "        "
   ]
  },
  {
   "cell_type": "code",
   "execution_count": null,
   "metadata": {},
   "outputs": [],
   "source": [
    "leapyear()"
   ]
  },
  {
   "cell_type": "code",
   "execution_count": null,
   "metadata": {},
   "outputs": [],
   "source": [
    "def power(a,n):\n",
    "    return a**n\n",
    "power(2,5)"
   ]
  },
  {
   "cell_type": "code",
   "execution_count": null,
   "metadata": {},
   "outputs": [],
   "source": [
    "def recurssivepower(a,n):\n",
    "    if n==1:\n",
    "        return 1\n",
    "    else:\n",
    "        return recurssivepower(a,n-1)*n\n",
    "recurssivepower(2,5)"
   ]
  },
  {
   "cell_type": "code",
   "execution_count": null,
   "metadata": {},
   "outputs": [],
   "source": [
    "2*2*2*2"
   ]
  },
  {
   "cell_type": "code",
   "execution_count": null,
   "metadata": {},
   "outputs": [],
   "source": [
    "r=1\n",
    "b=3\n",
    "a=4 \n",
    "r=b%a\n",
    "r"
   ]
  },
  {
   "cell_type": "code",
   "execution_count": null,
   "metadata": {},
   "outputs": [],
   "source": [
    "7. Design a Python script to determine the difference in date for given two dates in YYYY:MM:DD format(0 <= YYYY <= 9999, 1 <= MM <= 12, 1 <= DD <= 31) following the leap year rules. Return the total number of days existing between the two dates.\n",
    "\n",
    "dateDifference('2019:05:10', '2019:05:01') -> 9\n",
    "dateDifference('0003:03:03', '0003:06:06') -> 95\n",
    "dateDifference('0001:03:27', '0001:06:03') -> 68"
   ]
  },
  {
   "cell_type": "code",
   "execution_count": null,
   "metadata": {},
   "outputs": [],
   "source": [
    "3%4"
   ]
  },
  {
   "cell_type": "code",
   "execution_count": null,
   "metadata": {},
   "outputs": [],
   "source": [
    "def gcd(a,b):\n",
    "    r=b%a\n",
    "    if r==0:\n",
    "        return a\n",
    "    while r!=0:\n",
    "        r=b%a\n",
    "        b=a\n",
    "        a=r\n",
    "    return b\n",
    "gcd(12,24)\n",
    "        "
   ]
  },
  {
   "cell_type": "code",
   "execution_count": null,
   "metadata": {},
   "outputs": [],
   "source": [
    "def recurssivegcd(a,b):\n",
    "    if b%a==0:\n",
    "        return a\n",
    "    else:\n",
    "        return recurssivegcd(b%a,a)"
   ]
  },
  {
   "cell_type": "code",
   "execution_count": null,
   "metadata": {},
   "outputs": [],
   "source": [
    "recurssivegcd(12,39)"
   ]
  },
  {
   "cell_type": "code",
   "execution_count": null,
   "metadata": {},
   "outputs": [],
   "source": [
    "def power(n,r):\n",
    "    prod=1\n",
    "    for i in range(r):\n",
    "        prod*=n\n",
    "    return prod"
   ]
  },
  {
   "cell_type": "code",
   "execution_count": null,
   "metadata": {},
   "outputs": [],
   "source": [
    "power(2,4)"
   ]
  },
  {
   "cell_type": "code",
   "execution_count": null,
   "metadata": {},
   "outputs": [],
   "source": [
    "def recurssivepower(n,r):\n",
    "    if r==0:\n",
    "        return 1\n",
    "    else:\n",
    "        return recurssivepower(n,r-1)*n"
   ]
  },
  {
   "cell_type": "code",
   "execution_count": null,
   "metadata": {},
   "outputs": [],
   "source": [
    "recurssivepower(2,3)"
   ]
  },
  {
   "cell_type": "code",
   "execution_count": null,
   "metadata": {},
   "outputs": [],
   "source": [
    "def factorial(n):\n",
    "    fa=1\n",
    "    for i in range(1,n+1):\n",
    "        fa=fa*i\n",
    "    return fa"
   ]
  },
  {
   "cell_type": "code",
   "execution_count": null,
   "metadata": {},
   "outputs": [],
   "source": [
    "factorial(6)"
   ]
  },
  {
   "cell_type": "code",
   "execution_count": null,
   "metadata": {},
   "outputs": [],
   "source": [
    "def recurssivefactorial(n):\n",
    "    if n==1:\n",
    "        return 1\n",
    "    else:\n",
    "        return n*recurssivefactorial(n-1)"
   ]
  },
  {
   "cell_type": "code",
   "execution_count": null,
   "metadata": {},
   "outputs": [],
   "source": [
    "recurssivefactorial(6)"
   ]
  },
  {
   "cell_type": "code",
   "execution_count": null,
   "metadata": {},
   "outputs": [],
   "source": [
    "1. Solve the following problems using Recursion and Iteration\n",
    "\n",
    "Power of a number\n",
    "Factorial\n",
    "GCD\n",
    "Towers of Hanoi\n",
    "Generating the nth Fibonacci number\n"
   ]
  },
  {
   "cell_type": "code",
   "execution_count": null,
   "metadata": {},
   "outputs": [],
   "source": [
    "def powerofanumber(n,r):\n",
    "    prod=1\n",
    "    for i in range(r):\n",
    "        prod*=n\n",
    "    return prod"
   ]
  },
  {
   "cell_type": "code",
   "execution_count": null,
   "metadata": {},
   "outputs": [],
   "source": [
    "powerofanumber(2,10)"
   ]
  },
  {
   "cell_type": "code",
   "execution_count": null,
   "metadata": {},
   "outputs": [],
   "source": [
    "def recursiepower(n,r):\n",
    "    if r==0:\n",
    "        return 1\n",
    "    else:\n",
    "        return recursiepower(n,r-1)*n\n",
    "recursiepower(2,10)"
   ]
  },
  {
   "cell_type": "code",
   "execution_count": null,
   "metadata": {},
   "outputs": [],
   "source": [
    "def gcd(a,b):\n",
    "    r=b%a\n",
    "    if r==0:\n",
    "        return a\n",
    "    while r!=0:\n",
    "        r=b%a\n",
    "        b=a\n",
    "        a=r\n",
    "    return b"
   ]
  },
  {
   "cell_type": "code",
   "execution_count": null,
   "metadata": {},
   "outputs": [],
   "source": [
    "gcd(12,24)"
   ]
  },
  {
   "cell_type": "code",
   "execution_count": null,
   "metadata": {},
   "outputs": [],
   "source": [
    "def recursivegcd(a,b):\n",
    "    if b%a==0:\n",
    "        return a\n",
    "    else:\n",
    "        return recursivegcd(b%a,a)"
   ]
  },
  {
   "cell_type": "code",
   "execution_count": null,
   "metadata": {},
   "outputs": [],
   "source": [
    "recursivegcd(12,24)"
   ]
  },
  {
   "cell_type": "code",
   "execution_count": null,
   "metadata": {},
   "outputs": [],
   "source": [
    "def factorial(n):\n",
    "    fa=1\n",
    "    for i in range(1,n+1):\n",
    "        fa=fa*i\n",
    "    return fa"
   ]
  },
  {
   "cell_type": "code",
   "execution_count": null,
   "metadata": {},
   "outputs": [],
   "source": [
    "factorial(6)"
   ]
  },
  {
   "cell_type": "code",
   "execution_count": null,
   "metadata": {},
   "outputs": [],
   "source": [
    "def recursivefactorial(n):\n",
    "    if n==1:\n",
    "        return 1\n",
    "    else:\n",
    "        return n*recursivefactorial(n-1)\n",
    "    "
   ]
  },
  {
   "cell_type": "code",
   "execution_count": null,
   "metadata": {},
   "outputs": [],
   "source": [
    "recursivefactorial(6)"
   ]
  },
  {
   "cell_type": "code",
   "execution_count": null,
   "metadata": {},
   "outputs": [],
   "source": [
    "def fibonacci(n):\n",
    "    x=0\n",
    "    y=1\n",
    "    z=1\n",
    "    for i in range(1,n+1):\n",
    "        z=x+y\n",
    "        x=y\n",
    "        y=z\n",
    "    return y\n",
    "    "
   ]
  },
  {
   "cell_type": "code",
   "execution_count": null,
   "metadata": {},
   "outputs": [],
   "source": [
    "fibonacci(10)"
   ]
  },
  {
   "cell_type": "code",
   "execution_count": null,
   "metadata": {},
   "outputs": [],
   "source": [
    "def recursivefib(n):\n",
    "    if n<=1:\n",
    "        return n\n",
    "    else:\n",
    "        return (recursivefib(n-1)+recursivefib(n-2))"
   ]
  },
  {
   "cell_type": "code",
   "execution_count": null,
   "metadata": {},
   "outputs": [],
   "source": [
    "recursivefib(10)"
   ]
  },
  {
   "cell_type": "code",
   "execution_count": null,
   "metadata": {},
   "outputs": [],
   "source": [
    "n=int(input())\n",
    "for i in range(n):\n",
    "    def binarytodecimal():\n",
    "        s=input()\n",
    "        k=int(s,2)\n",
    "        return k"
   ]
  },
  {
   "cell_type": "code",
   "execution_count": null,
   "metadata": {},
   "outputs": [],
   "source": [
    "binarytodecimal()"
   ]
  },
  {
   "cell_type": "code",
   "execution_count": null,
   "metadata": {},
   "outputs": [],
   "source": [
    "def deciamltobinary():\n",
    "    n=int(input())\n",
    "    for i in range(n):\n",
    "        s=int(input())\n",
    "        k=(bin(s))\n",
    "        print(k)"
   ]
  },
  {
   "cell_type": "code",
   "execution_count": null,
   "metadata": {},
   "outputs": [],
   "source": [
    "deciamltobinary()"
   ]
  },
  {
   "cell_type": "code",
   "execution_count": null,
   "metadata": {},
   "outputs": [],
   "source": [
    "def substringcount(s1,s2):\n",
    "    for i in range(len(s1)):\n",
    "        if s1[i]==s2:\n",
    "            s1.count(i)+1\n",
    "    print(s1.count(s2))"
   ]
  },
  {
   "cell_type": "code",
   "execution_count": null,
   "metadata": {},
   "outputs": [],
   "source": [
    "substringcount(\"abcdabc\",\"abc\")"
   ]
  },
  {
   "cell_type": "code",
   "execution_count": null,
   "metadata": {},
   "outputs": [],
   "source": [
    "substringcount(\"str\",\"substr\")"
   ]
  },
  {
   "cell_type": "code",
   "execution_count": null,
   "metadata": {},
   "outputs": [],
   "source": [
    "### DateDifference\n",
    "\n",
    "## number of days in Febrauary\n",
    "def numofdaysinfeb(year):\n",
    "    if (year%400==0) or (year%4==0 and year%100!=0):\n",
    "        return 29\n",
    "    return 28"
   ]
  },
  {
   "cell_type": "code",
   "execution_count": null,
   "metadata": {},
   "outputs": [],
   "source": [
    "## number of days in remaining months\n",
    "def numofdaysinmonth(month,year):\n",
    "    if month==2:\n",
    "        return numofdaysinfeb(year)\n",
    "    elif (month<=7 and month!=2 and month%2==0) or (month>7 and month%2!=0):\n",
    "        return 30\n",
    "    return 31"
   ]
  },
  {
   "cell_type": "code",
   "execution_count": null,
   "metadata": {},
   "outputs": [],
   "source": [
    "numofdaysinmonth(4,2020)"
   ]
  },
  {
   "cell_type": "code",
   "execution_count": null,
   "metadata": {},
   "outputs": [],
   "source": [
    "def numofdaysinayear(year):\n",
    "    if numofdaysinfeb(year)==29:\n",
    "        return 366\n",
    "    return 365\n",
    "numofdaysinayear(2020)"
   ]
  },
  {
   "cell_type": "code",
   "execution_count": null,
   "metadata": {},
   "outputs": [],
   "source": [
    "def totalnumofdaysinagivenyeartilldate(date):\n",
    "    year=yearfromdate(date)\n",
    "    month=monthfromdate(date)\n",
    "    days=daysfromdate(date)\n",
    "    sum=0\n",
    "    for i in range(1,month):\n",
    "        sum=sum+(numofdaysinmonth(i,year))\n",
    "    sum+=days\n",
    "    return sum\n",
    "    "
   ]
  },
  {
   "cell_type": "code",
   "execution_count": null,
   "metadata": {},
   "outputs": [],
   "source": [
    "def totalnumofdaysinaendyeartilldate(date):\n",
    "    year=yearfromdate(date)\n",
    "    month=monthfromdate(date)\n",
    "    days=daysfromdate(date)\n",
    "    sum=0\n",
    "    for i in range(month+1,13):\n",
    "        sum+=(numofdaysinmonth(i,year))\n",
    "    sum +=(numofdaysinmonth(month,year)-day + 1)\n",
    "    return sum"
   ]
  },
  {
   "cell_type": "code",
   "execution_count": null,
   "metadata": {},
   "outputs": [],
   "source": [
    "def yearfromdate(date):\n",
    "    return int(date[:4])"
   ]
  },
  {
   "cell_type": "code",
   "execution_count": null,
   "metadata": {},
   "outputs": [],
   "source": [
    "def monthfromdate(date):\n",
    "    return int(date[5:7])"
   ]
  },
  {
   "cell_type": "code",
   "execution_count": null,
   "metadata": {},
   "outputs": [],
   "source": [
    "def daysfromdate(date):\n",
    "    return int(date[len(date)-2:])"
   ]
  },
  {
   "cell_type": "code",
   "execution_count": null,
   "metadata": {},
   "outputs": [],
   "source": [
    "def datedifference(date1,date2):\n",
    "    if yearfromdate(date1)==yearfromdate(date2):\n",
    "        return abs(totalnumofdaysinagivenyeartilldate(date1)-totalnumofdaysinagivenyeartilldate(date2))\n",
    "    elif yearfromdate(date2)-yearfromdate(date1)==1:\n",
    "        return totalnumofdaysinaendyeartilldate(date1)+totalnumofdaysinaendyeartilldate(date2)\n",
    "    else:\n",
    "        sum=totalnumofdaysinaendyeartilldate(date1)+totalnumofdaysinaendyeartilldate(date2)\n",
    "        year1=yearfromdate(date1)\n",
    "        year2=yearfromdate(date2)\n",
    "        for i in range(year1+1,year2):\n",
    "            sum +=numofdaysinayear(i)\n",
    "        return sum"
   ]
  },
  {
   "cell_type": "code",
   "execution_count": null,
   "metadata": {},
   "outputs": [],
   "source": [
    "datedifference('2019:05:10', '2019:05:01')"
   ]
  },
  {
   "cell_type": "code",
   "execution_count": null,
   "metadata": {},
   "outputs": [],
   "source": [
    "datedifference('0003:03:03', '0003:06:06')"
   ]
  },
  {
   "cell_type": "code",
   "execution_count": null,
   "metadata": {},
   "outputs": [],
   "source": [
    "from datetime import date,datetime\n",
    "def datedifference(date1,date2):\n",
    "    year1=yearfromdate(date1)\n",
    "    month1=monthfromdate(date1)\n",
    "    day1=daysfromdate(date1)\n",
    "    year2=yearfromdate(date2)\n",
    "    month2=monthfromdate(date2)\n",
    "    day2=daysfromdate(date2)\n",
    "    d1=date(year1=year,month1=month,day1=day)\n",
    "    d2=date(year2=year,month2=month,day2=day)\n",
    "    print(d2-d1)\n",
    "datedifference('2019:05:10', '2019:05:01')"
   ]
  },
  {
   "cell_type": "code",
   "execution_count": null,
   "metadata": {},
   "outputs": [],
   "source": [
    "8. Define a function to find the average of all the outer elements of an N x M matrix.\n",
    "\n",
    "averageOuterMatrix([[1, 2, 3], [4, 5, 6], [7, 8, 9], [10, 11, 12]] -> 4.5"
   ]
  },
  {
   "cell_type": "code",
   "execution_count": null,
   "metadata": {},
   "outputs": [],
   "source": [
    "def isprime(n):\n",
    "    count=0\n",
    "    for i in range(2,n//2+1):\n",
    "        if n%i==0:\n",
    "            count+=1\n",
    "    if count==0:\n",
    "        return True\n",
    "    else:\n",
    "        return False"
   ]
  },
  {
   "cell_type": "code",
   "execution_count": null,
   "metadata": {},
   "outputs": [],
   "source": [
    "isprime(3)"
   ]
  },
  {
   "cell_type": "code",
   "execution_count": null,
   "metadata": {},
   "outputs": [],
   "source": [
    "def primesinagivenrange(n):\n",
    "    if isprime(n):\n",
    "        k=reverseofanumber(n)\n",
    "        return k\n",
    "\n",
    "        "
   ]
  },
  {
   "cell_type": "code",
   "execution_count": null,
   "metadata": {},
   "outputs": [],
   "source": [
    "def function():\n",
    "    if isprime(k):\n",
    "        return \"E\"\n",
    "function()"
   ]
  },
  {
   "cell_type": "code",
   "execution_count": null,
   "metadata": {},
   "outputs": [],
   "source": [
    "primesinagivenrange(13)"
   ]
  },
  {
   "cell_type": "code",
   "execution_count": null,
   "metadata": {},
   "outputs": [],
   "source": [
    "rev=0\n",
    "while(n>0):\n",
    "    dig=n%10\n",
    "    rev=rev*10+dig\n",
    "    n=n//10\n",
    "print(\"Reverse of the number:\",rev)"
   ]
  },
  {
   "cell_type": "code",
   "execution_count": null,
   "metadata": {},
   "outputs": [],
   "source": [
    "## Reverse of a number\n",
    "def reverseofanumber(s):\n",
    "    reverse=0\n",
    "    while s>0:\n",
    "        dig=s%10\n",
    "        reverse=reverse*10+dig\n",
    "        s=s//10\n",
    "    print(reverse)\n",
    "    \n",
    "    \n",
    "\n"
   ]
  },
  {
   "cell_type": "code",
   "execution_count": null,
   "metadata": {},
   "outputs": [],
   "source": [
    "reverseofanumber(11011)"
   ]
  },
  {
   "cell_type": "code",
   "execution_count": null,
   "metadata": {},
   "outputs": [],
   "source": [
    "emirph(13)"
   ]
  },
  {
   "cell_type": "code",
   "execution_count": null,
   "metadata": {},
   "outputs": [],
   "source": [
    "def primefactors(a):\n",
    "    for i in range(a):\n",
    "        if isprime(i):\n",
    "            if a%i==0:\n",
    "                print(i)"
   ]
  },
  {
   "cell_type": "code",
   "execution_count": null,
   "metadata": {},
   "outputs": [],
   "source": [
    "primefactors(10)"
   ]
  },
  {
   "cell_type": "code",
   "execution_count": 1,
   "metadata": {},
   "outputs": [],
   "source": [
    "def hcf(a,b):\n",
    "    r=b%a\n",
    "    if r==0:\n",
    "        return a\n",
    "    while r!=0:\n",
    "        r=b%a\n",
    "        b=a\n",
    "        a=r\n",
    "    print(b)"
   ]
  },
  {
   "cell_type": "code",
   "execution_count": 16,
   "metadata": {},
   "outputs": [
    {
     "name": "stdout",
     "output_type": "stream",
     "text": [
      "1\n"
     ]
    }
   ],
   "source": [
    "hcf(20,21)"
   ]
  },
  {
   "cell_type": "code",
   "execution_count": 6,
   "metadata": {},
   "outputs": [
    {
     "data": {
      "text/plain": [
       "False"
      ]
     },
     "execution_count": 6,
     "metadata": {},
     "output_type": "execute_result"
    }
   ],
   "source": [
    "def isprime(n):\n",
    "    count=0\n",
    "    for i in range(2,n//2+1):\n",
    "        if n%i==0:\n",
    "            count+=1\n",
    "    if count==0:\n",
    "        return True\n",
    "    else:\n",
    "        return False\n",
    "isprime(10)"
   ]
  },
  {
   "cell_type": "code",
   "execution_count": 11,
   "metadata": {},
   "outputs": [],
   "source": [
    "def primefactors(a,b):\n",
    "    for i in range(2,a):\n",
    "        if a%i==0:\n",
    "            if isprime(i):\n",
    "                print(i)\n",
    "    for j in range(2,b):\n",
    "        if b%j==0:\n",
    "            if isprime(j):\n",
    "                print(j)\n",
    "    return hcf(i,j)"
   ]
  },
  {
   "cell_type": "code",
   "execution_count": 12,
   "metadata": {},
   "outputs": [
    {
     "name": "stdout",
     "output_type": "stream",
     "text": [
      "2\n",
      "5\n",
      "2\n",
      "5\n",
      "1\n"
     ]
    }
   ],
   "source": [
    "primefactors(10,20)"
   ]
  },
  {
   "cell_type": "code",
   "execution_count": 17,
   "metadata": {},
   "outputs": [],
   "source": [
    "def reverseofanumber(n):\n",
    "    rev=0\n",
    "    while n!=0:\n",
    "        dig=n%10\n",
    "        rev=rev*10+dig\n",
    "        n=n//10\n",
    "    return rev\n",
    "    "
   ]
  },
  {
   "cell_type": "code",
   "execution_count": 18,
   "metadata": {},
   "outputs": [
    {
     "data": {
      "text/plain": [
       "42"
      ]
     },
     "execution_count": 18,
     "metadata": {},
     "output_type": "execute_result"
    }
   ],
   "source": [
    "reverseofanumber(24)"
   ]
  },
  {
   "cell_type": "code",
   "execution_count": 20,
   "metadata": {},
   "outputs": [],
   "source": [
    "def emirph():\n",
    "    if isprime(reverseofanumber(20)):\n",
    "        return \"E\""
   ]
  },
  {
   "cell_type": "markdown",
   "metadata": {},
   "source": [
    "emirph()"
   ]
  },
  {
   "cell_type": "code",
   "execution_count": null,
   "metadata": {},
   "outputs": [],
   "source": []
  }
 ],
 "metadata": {
  "kernelspec": {
   "display_name": "Python 3",
   "language": "python",
   "name": "python3"
  },
  "language_info": {
   "codemirror_mode": {
    "name": "ipython",
    "version": 3
   },
   "file_extension": ".py",
   "mimetype": "text/x-python",
   "name": "python",
   "nbconvert_exporter": "python",
   "pygments_lexer": "ipython3",
   "version": "3.7.3"
  }
 },
 "nbformat": 4,
 "nbformat_minor": 2
}
